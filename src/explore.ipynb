{
    "cells": [
        {
            "cell_type": "markdown",
            "metadata": {},
            "source": [
                "# Explore here"
            ]
        },
        {
            "cell_type": "code",
            "execution_count": 41,
            "metadata": {},
            "outputs": [],
            "source": [
                "# Import\n",
                "# Basics\n",
                "import pandas as pd\n",
                "import numpy as np\n",
                "\n",
                "# Visualization\n",
                "import matplotlib.pyplot as plt\n",
                "import seaborn as sns\n",
                "\n",
                "# Splitting data\n",
                "from sklearn.model_selection import train_test_split"
            ]
        },
        {
            "cell_type": "code",
            "execution_count": 33,
            "metadata": {},
            "outputs": [
                {
                    "data": {
                        "text/html": [
                            "<div>\n",
                            "<style scoped>\n",
                            "    .dataframe tbody tr th:only-of-type {\n",
                            "        vertical-align: middle;\n",
                            "    }\n",
                            "\n",
                            "    .dataframe tbody tr th {\n",
                            "        vertical-align: top;\n",
                            "    }\n",
                            "\n",
                            "    .dataframe thead th {\n",
                            "        text-align: right;\n",
                            "    }\n",
                            "</style>\n",
                            "<table border=\"1\" class=\"dataframe\">\n",
                            "  <thead>\n",
                            "    <tr style=\"text-align: right;\">\n",
                            "      <th></th>\n",
                            "      <th>MedInc</th>\n",
                            "      <th>HouseAge</th>\n",
                            "      <th>AveRooms</th>\n",
                            "      <th>AveBedrms</th>\n",
                            "      <th>Population</th>\n",
                            "      <th>AveOccup</th>\n",
                            "      <th>Latitude</th>\n",
                            "      <th>Longitude</th>\n",
                            "      <th>MedHouseVal</th>\n",
                            "    </tr>\n",
                            "  </thead>\n",
                            "  <tbody>\n",
                            "    <tr>\n",
                            "      <th>0</th>\n",
                            "      <td>8.3252</td>\n",
                            "      <td>41.0</td>\n",
                            "      <td>6.984127</td>\n",
                            "      <td>1.023810</td>\n",
                            "      <td>322.0</td>\n",
                            "      <td>2.555556</td>\n",
                            "      <td>37.88</td>\n",
                            "      <td>-122.23</td>\n",
                            "      <td>4.526</td>\n",
                            "    </tr>\n",
                            "    <tr>\n",
                            "      <th>1</th>\n",
                            "      <td>8.3014</td>\n",
                            "      <td>21.0</td>\n",
                            "      <td>6.238137</td>\n",
                            "      <td>0.971880</td>\n",
                            "      <td>2401.0</td>\n",
                            "      <td>2.109842</td>\n",
                            "      <td>37.86</td>\n",
                            "      <td>-122.22</td>\n",
                            "      <td>3.585</td>\n",
                            "    </tr>\n",
                            "    <tr>\n",
                            "      <th>2</th>\n",
                            "      <td>7.2574</td>\n",
                            "      <td>52.0</td>\n",
                            "      <td>8.288136</td>\n",
                            "      <td>1.073446</td>\n",
                            "      <td>496.0</td>\n",
                            "      <td>2.802260</td>\n",
                            "      <td>37.85</td>\n",
                            "      <td>-122.24</td>\n",
                            "      <td>3.521</td>\n",
                            "    </tr>\n",
                            "    <tr>\n",
                            "      <th>3</th>\n",
                            "      <td>5.6431</td>\n",
                            "      <td>52.0</td>\n",
                            "      <td>5.817352</td>\n",
                            "      <td>1.073059</td>\n",
                            "      <td>558.0</td>\n",
                            "      <td>2.547945</td>\n",
                            "      <td>37.85</td>\n",
                            "      <td>-122.25</td>\n",
                            "      <td>3.413</td>\n",
                            "    </tr>\n",
                            "    <tr>\n",
                            "      <th>4</th>\n",
                            "      <td>3.8462</td>\n",
                            "      <td>52.0</td>\n",
                            "      <td>6.281853</td>\n",
                            "      <td>1.081081</td>\n",
                            "      <td>565.0</td>\n",
                            "      <td>2.181467</td>\n",
                            "      <td>37.85</td>\n",
                            "      <td>-122.25</td>\n",
                            "      <td>3.422</td>\n",
                            "    </tr>\n",
                            "  </tbody>\n",
                            "</table>\n",
                            "</div>"
                        ],
                        "text/plain": [
                            "   MedInc  HouseAge  AveRooms  AveBedrms  Population  AveOccup  Latitude  \\\n",
                            "0  8.3252      41.0  6.984127   1.023810       322.0  2.555556     37.88   \n",
                            "1  8.3014      21.0  6.238137   0.971880      2401.0  2.109842     37.86   \n",
                            "2  7.2574      52.0  8.288136   1.073446       496.0  2.802260     37.85   \n",
                            "3  5.6431      52.0  5.817352   1.073059       558.0  2.547945     37.85   \n",
                            "4  3.8462      52.0  6.281853   1.081081       565.0  2.181467     37.85   \n",
                            "\n",
                            "   Longitude  MedHouseVal  \n",
                            "0    -122.23        4.526  \n",
                            "1    -122.22        3.585  \n",
                            "2    -122.24        3.521  \n",
                            "3    -122.25        3.413  \n",
                            "4    -122.25        3.422  "
                        ]
                    },
                    "execution_count": 33,
                    "metadata": {},
                    "output_type": "execute_result"
                }
            ],
            "source": [
                "# Get data\n",
                "df = pd.read_csv(\"https://raw.githubusercontent.com/4GeeksAcademy/k-means-project-tutorial/main/housing.csv\")\n",
                "\n",
                "# Configure pandas to display all rows and columns\n",
                "pd.set_option('display.max_rows', None)\n",
                "pd.set_option('display.max_columns', None)\n",
                "\n",
                "# Initial Data Display\n",
                "df.head()"
            ]
        },
        {
            "cell_type": "markdown",
            "metadata": {},
            "source": [
                "Significado de los features del dataset:\n",
                "\n",
                "- `MedInc` : Ingresos medios de los hogares dentro de un bloque de casas (medidos en decenas de miles de dolares)\n",
                "- `HouseAge` : Edad media de una casa dentro de un bloque; un numero mas bajo indica un edificio mas nuevo\n",
                "- `AveRooms` : Promedio de habitaciones dentro de un bloque\n",
                "- `AveBedrms` : Promedio de dormitorios dentro de un bloque\n",
                "- `Population` : Numero total de personas que residen dentro de un bloque\n",
                "- `AveOccup` : Promedio de personas por hogares que residen dentro de un bloque (Poblacion / Hogares)\n",
                "- `Latitude` : Una medida de que tan al norte se encuentra una casa; un valor mas alto es cuanto mas al norte\n",
                "- `Longitude` : Una medida de que tan al oeste esta una casa; un valor mas alto es cuanto mas al oeste esté\n",
                "- `MedHouseVal` : Valor medio de las viviendas para los hogares dentro de un bloque (medidos en cientos de miles de dolares)"
            ]
        },
        {
            "cell_type": "code",
            "execution_count": 34,
            "metadata": {},
            "outputs": [
                {
                    "data": {
                        "text/html": [
                            "<div>\n",
                            "<style scoped>\n",
                            "    .dataframe tbody tr th:only-of-type {\n",
                            "        vertical-align: middle;\n",
                            "    }\n",
                            "\n",
                            "    .dataframe tbody tr th {\n",
                            "        vertical-align: top;\n",
                            "    }\n",
                            "\n",
                            "    .dataframe thead th {\n",
                            "        text-align: right;\n",
                            "    }\n",
                            "</style>\n",
                            "<table border=\"1\" class=\"dataframe\">\n",
                            "  <thead>\n",
                            "    <tr style=\"text-align: right;\">\n",
                            "      <th></th>\n",
                            "      <th>MedInc</th>\n",
                            "      <th>Latitude</th>\n",
                            "      <th>Longitude</th>\n",
                            "    </tr>\n",
                            "  </thead>\n",
                            "  <tbody>\n",
                            "    <tr>\n",
                            "      <th>0</th>\n",
                            "      <td>8.3252</td>\n",
                            "      <td>37.88</td>\n",
                            "      <td>-122.23</td>\n",
                            "    </tr>\n",
                            "    <tr>\n",
                            "      <th>1</th>\n",
                            "      <td>8.3014</td>\n",
                            "      <td>37.86</td>\n",
                            "      <td>-122.22</td>\n",
                            "    </tr>\n",
                            "    <tr>\n",
                            "      <th>2</th>\n",
                            "      <td>7.2574</td>\n",
                            "      <td>37.85</td>\n",
                            "      <td>-122.24</td>\n",
                            "    </tr>\n",
                            "    <tr>\n",
                            "      <th>3</th>\n",
                            "      <td>5.6431</td>\n",
                            "      <td>37.85</td>\n",
                            "      <td>-122.25</td>\n",
                            "    </tr>\n",
                            "    <tr>\n",
                            "      <th>4</th>\n",
                            "      <td>3.8462</td>\n",
                            "      <td>37.85</td>\n",
                            "      <td>-122.25</td>\n",
                            "    </tr>\n",
                            "  </tbody>\n",
                            "</table>\n",
                            "</div>"
                        ],
                        "text/plain": [
                            "   MedInc  Latitude  Longitude\n",
                            "0  8.3252     37.88    -122.23\n",
                            "1  8.3014     37.86    -122.22\n",
                            "2  7.2574     37.85    -122.24\n",
                            "3  5.6431     37.85    -122.25\n",
                            "4  3.8462     37.85    -122.25"
                        ]
                    },
                    "execution_count": 34,
                    "metadata": {},
                    "output_type": "execute_result"
                }
            ],
            "source": [
                "# Para este analisis de clasificacion solo se tendra en cuenta la ubicacion de las casas y el ingreso medio\n",
                "df = df.drop([\"HouseAge\", \"AveRooms\", \"AveBedrms\", \"Population\", \"AveOccup\", \"MedHouseVal\"], axis=1)\n",
                "df.head()"
            ]
        },
        {
            "cell_type": "code",
            "execution_count": 35,
            "metadata": {},
            "outputs": [
                {
                    "data": {
                        "text/plain": [
                            "(20640, 3)"
                        ]
                    },
                    "execution_count": 35,
                    "metadata": {},
                    "output_type": "execute_result"
                }
            ],
            "source": [
                "# DataFrame Dimensions\n",
                "df.shape"
            ]
        },
        {
            "cell_type": "code",
            "execution_count": 36,
            "metadata": {},
            "outputs": [
                {
                    "name": "stdout",
                    "output_type": "stream",
                    "text": [
                        "<class 'pandas.core.frame.DataFrame'>\n",
                        "RangeIndex: 20640 entries, 0 to 20639\n",
                        "Data columns (total 3 columns):\n",
                        " #   Column     Non-Null Count  Dtype  \n",
                        "---  ------     --------------  -----  \n",
                        " 0   MedInc     20640 non-null  float64\n",
                        " 1   Latitude   20640 non-null  float64\n",
                        " 2   Longitude  20640 non-null  float64\n",
                        "dtypes: float64(3)\n",
                        "memory usage: 483.9 KB\n"
                    ]
                }
            ],
            "source": [
                "# Basic Information on Data Types and Non-Null Values\n",
                "df.info()"
            ]
        },
        {
            "cell_type": "code",
            "execution_count": 37,
            "metadata": {},
            "outputs": [
                {
                    "data": {
                        "text/plain": [
                            "np.int64(5)"
                        ]
                    },
                    "execution_count": 37,
                    "metadata": {},
                    "output_type": "execute_result"
                }
            ],
            "source": [
                "# Search and Removal of Duplicate Data\n",
                "duplicates = df.duplicated().sum()\n",
                "duplicates"
            ]
        },
        {
            "cell_type": "code",
            "execution_count": 38,
            "metadata": {},
            "outputs": [
                {
                    "data": {
                        "image/png": "[encoded data removed]",
                        "text/plain": [
                            "<Figure size 1000x800 with 8 Axes>"
                        ]
                    },
                    "metadata": {},
                    "output_type": "display_data"
                }
            ],
            "source": [
                "# Analysis of Numerical Variables\n",
                "fig, axis = plt.subplots(4, 2, figsize = (10, 8), gridspec_kw={'height_ratios': [6, 1, 6, 1]})\n",
                "\n",
                "# Create a multiple figure with histograms and box plots\n",
                "sns.histplot(ax = axis[0, 0], data = df, x = \"MedInc\", bins=50, color=\"#1f77b4\").set(xlabel = None)\n",
                "sns.boxplot(ax = axis[1, 0], data = df, x = \"MedInc\", color=\"#1f77b4\").set(xlabel = \"MedInc\")\n",
                "\n",
                "sns.histplot(ax = axis[0, 1], data = df, x = \"Latitude\", bins=50, color=\"#ff7f0e\").set(xlabel = None)\n",
                "sns.boxplot(ax = axis[1, 1], data = df, x = \"Latitude\", color=\"#ff7f0e\").set(xlabel = \"Latitude\")\n",
                "\n",
                "sns.histplot(ax = axis[2, 0], data = df, x = \"Longitude\", bins=50, color=\"#2ca02c\").set(xlabel = None)\n",
                "sns.boxplot(ax = axis[3, 0], data = df, x = \"Longitude\", color=\"#2ca02c\").set(xlabel = \"Longitude\")\n",
                "\n",
                "# Delete axis\n",
                "axis[2, 1].axis(\"off\")\n",
                "axis[3, 1].axis(\"off\")\n",
                "\n",
                "# Adjust the Layout\n",
                "plt.tight_layout()\n",
                "\n",
                "# Display the Plot\n",
                "plt.show()"
            ]
        },
        {
            "cell_type": "code",
            "execution_count": 39,
            "metadata": {},
            "outputs": [
                {
                    "name": "stdout",
                    "output_type": "stream",
                    "text": [
                        "8.013024999999999\n"
                    ]
                },
                {
                    "data": {
                        "text/plain": [
                            "(19950, 3)"
                        ]
                    },
                    "execution_count": 39,
                    "metadata": {},
                    "output_type": "execute_result"
                }
            ],
            "source": [
                "# Cleaning outliers\n",
                "\n",
                "# La distribucion de \"MedInc\" presenta valores atipicos\n",
                "# Al tratarse de ingresos medios es posible que los datos no sean erroneos\n",
                "\n",
                "# Interquartile range\n",
                "med_inc_info = df[\"MedInc\"].describe()\n",
                "var1_iqr = med_inc_info[\"75%\"] - med_inc_info[\"25%\"]\n",
                "up_limit = med_inc_info[\"75%\"] + 1.5 * var1_iqr\n",
                "low_limit = med_inc_info[\"25%\"] - 1.5 * var1_iqr\n",
                "\n",
                "print(up_limit)\n",
                "\n",
                "df[df[\"MedInc\"] > 8].shape\n",
                "\n",
                "# A pesar de no ser datos erroneos en nuestro primer analisis tomaremos solo los menores e iguales a 8\n",
                "df = df[df[\"MedInc\"] <= 8]\n",
                "df.shape\n",
                "\n",
                "# Con esta eliminacion tomamos mas del 96% de los datos, por lo que no debe afectar nuestra muestra de forma significativa\n",
                "# De ser necesario tomaremos un umbral menos restrictivo para el tratamiento de dichos valores atipicos"
            ]
        },
        {
            "cell_type": "code",
            "execution_count": 40,
            "metadata": {},
            "outputs": [
                {
                    "data": {
                        "image/png": "[encoded data removed]",
                        "text/plain": [
                            "<Figure size 500x500 with 2 Axes>"
                        ]
                    },
                    "metadata": {},
                    "output_type": "display_data"
                }
            ],
            "source": [
                "fig, axis = plt.subplots(2, figsize = (5, 5), gridspec_kw={'height_ratios': [6, 1]})\n",
                "sns.histplot(ax = axis[0], data = df, x = \"MedInc\", bins=50, color=\"#1f77b4\").set(xlabel = None)\n",
                "sns.boxplot(ax = axis[1], data = df, x = \"MedInc\", color=\"#1f77b4\").set(xlabel = \"MedInc\")\n",
                "# Adjust the Layout\n",
                "plt.tight_layout()\n",
                "# Display the Plot\n",
                "plt.show()"
            ]
        },
        {
            "cell_type": "code",
            "execution_count": 44,
            "metadata": {},
            "outputs": [
                {
                    "data": {
                        "text/plain": [
                            "(3990, 3)"
                        ]
                    },
                    "execution_count": 44,
                    "metadata": {},
                    "output_type": "execute_result"
                }
            ],
            "source": [
                "# Splitting data into train and test sets\n",
                "X_train, X_test = train_test_split(df, test_size = 0.2, random_state = 42) # stratify=y for imbalanced classes in the target\n",
                "\n",
                "X_test.shape"
            ]
        }
    ],
    "metadata": {
        "kernelspec": {
            "display_name": ".venv",
            "language": "python",
            "name": "python3"
        },
        "language_info": {
            "codemirror_mode": {
                "name": "ipython",
                "version": 3
            },
            "file_extension": ".py",
            "mimetype": "text/x-python",
            "name": "python",
            "nbconvert_exporter": "python",
            "pygments_lexer": "ipython3",
            "version": "3.11.4"
        },
        "orig_nbformat": 4
    },
    "nbformat": 4,
    "nbformat_minor": 2
}
